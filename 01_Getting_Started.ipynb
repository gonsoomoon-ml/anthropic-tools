{
 "cells": [
  {
   "cell_type": "markdown",
   "metadata": {},
   "source": [
    "# Claude Function Calling on Anthropic Tools\n",
    "- https://github.com/gonsoomoon-ml/anthropic-tools"
   ]
  },
  {
   "cell_type": "markdown",
   "metadata": {},
   "source": [
    "## 1. 환경 설정\n",
    "- 아래 링크를 클릭하여 Claude Model 을 사용하기 위한 API Key 설정 하세요.\n",
    "    - [VS CODE 노트북에서 환경 변수 사용하기](https://github.com/gonsoomoon-ml/Self-Study-Generative-AI/blob/main/environment_tips/README.md)"
   ]
  },
  {
   "cell_type": "code",
   "execution_count": 1,
   "metadata": {},
   "outputs": [],
   "source": [
    "# install_needed = True\n",
    "install_needed = False\n",
    "\n",
    "if install_needed:\n",
    "    ! pip install -r requirements.txt\n",
    "    ! pip install python-dotenv\n"
   ]
  },
  {
   "cell_type": "markdown",
   "metadata": {},
   "source": [
    "# 2. Tool 정의"
   ]
  },
  {
   "cell_type": "code",
   "execution_count": 2,
   "metadata": {},
   "outputs": [],
   "source": [
    "from tool_use_package.tool_user import ToolUser\n",
    "from tool_use_package.tools.base_tool import BaseTool"
   ]
  },
  {
   "cell_type": "code",
   "execution_count": 3,
   "metadata": {},
   "outputs": [],
   "source": [
    "# Create Tools\n",
    "class AdditionTool(BaseTool):\n",
    "    \"\"\"Tool to add two numbers together.\"\"\"\n",
    "    def use_tool(self, a, b):\n",
    "        return a + b\n",
    "\n",
    "class SubtractionTool(BaseTool):\n",
    "    \"\"\"Tool to subtract one number from another.\"\"\"\n",
    "    def use_tool(self, a, b):\n",
    "        return a - b\n",
    "\n",
    "# Instantiate Each Tool\n",
    "addition_tool_name = \"perform_addition\"\n",
    "addition_tool_description = \"Add two numbers, a and b, together. For example, add_numbers(a=10, b=12) -> 22. Numbers can be any rational number.\"\n",
    "addition_tool_parameters = [\n",
    "    {\"name\": \"a\", \"type\": \"float\", \"description\": \"The first number to add, such as 5\"},\n",
    "    {\"name\": \"b\", \"type\": \"float\", \"description\": \"The second number to add, such as 4.6\"}\n",
    "]\n",
    "\n",
    "subtraction_tool_name = \"perform_subtraction\"\n",
    "subtraction_tool_description = \"Perform subtraction of one number (b) from another (a) yielding a-b. For example, subtract_numbers(a=8, b=5) -> 3. Numbers can be any rational number.\"\n",
    "subtraction_tool_parameters = [\n",
    "    {\"name\": \"a\", \"type\": \"float\", \"description\": \"The minuend, such as 5\"},\n",
    "    {\"name\": \"b\", \"type\": \"float\", \"description\": \"The subtrahend, such as 9\"}\n",
    "]\n"
   ]
  },
  {
   "cell_type": "code",
   "execution_count": 4,
   "metadata": {},
   "outputs": [],
   "source": [
    "addition_tool = AdditionTool(addition_tool_name, addition_tool_description, addition_tool_parameters)\n",
    "subtraction_tool = SubtractionTool(subtraction_tool_name, subtraction_tool_description, subtraction_tool_parameters)\n"
   ]
  },
  {
   "cell_type": "markdown",
   "metadata": {},
   "source": [
    "# 3. Tool User 및 메시지 정의"
   ]
  },
  {
   "cell_type": "code",
   "execution_count": 5,
   "metadata": {},
   "outputs": [],
   "source": [
    "\n",
    "\n",
    "# Instantiate ToolUser by Passing it Tool Instances \n",
    "math_tool_user = ToolUser([addition_tool, subtraction_tool])\n",
    "\n",
    "# Build messages\n",
    "user_message = {\n",
    "    \"role\": \"user\",\n",
    "    \"content\": \"Sally has 17 apples. She gives 9 to Jim. Later that day, Peter gives 6 Bananas to Sally. How many pieces of fruit does Sally have at the end of the day?\"\n",
    "}\n",
    "\n",
    "messages = [user_message]\n"
   ]
  },
  {
   "cell_type": "code",
   "execution_count": null,
   "metadata": {},
   "outputs": [],
   "source": []
  },
  {
   "cell_type": "code",
   "execution_count": 9,
   "metadata": {},
   "outputs": [
    {
     "name": "stdout",
     "output_type": "stream",
     "text": [
      "math_tool_user.model:  claude-3-opus-20240229\n"
     ]
    }
   ],
   "source": [
    "# print(\"math_tool_user.client.api_key: \", math_tool_user.client.api_key)\n",
    "# print(\"math_tool_user.client.auth_headers: \", math_tool_user.client.auth_headers)\n",
    "# print(\"math_tool_user.client.auth_token: \", math_tool_user.client.auth_token)\n",
    "print(\"math_tool_user.model: \", math_tool_user.model)"
   ]
  },
  {
   "cell_type": "markdown",
   "metadata": {},
   "source": [
    "# 4. 메세지를 Tool 을 사용하여 결과 얻음"
   ]
  },
  {
   "cell_type": "code",
   "execution_count": 7,
   "metadata": {},
   "outputs": [
    {
     "ename": "TypeError",
     "evalue": "\"Could not resolve authentication method. Expected either api_key or auth_token to be set. Or for one of the `X-Api-Key` or `Authorization` headers to be explicitly omitted\"",
     "output_type": "error",
     "traceback": [
      "\u001b[0;31m---------------------------------------------------------------------------\u001b[0m",
      "\u001b[0;31mTypeError\u001b[0m                                 Traceback (most recent call last)",
      "\u001b[1;32m/home/sagemaker-user/anthropic-tools/01_Getting_Started.ipynb Cell 13\u001b[0m line \u001b[0;36m2\n\u001b[1;32m      <a href='vscode-notebook-cell://5rpekozdhu6pwqt.studio.us-east-1.sagemaker.aws/home/sagemaker-user/anthropic-tools/01_Getting_Started.ipynb#X50sdnNjb2RlLXJlbW90ZQ%3D%3D?line=0'>1</a>\u001b[0m \u001b[39m# Use Claude With the Provided Tools\u001b[39;00m\n\u001b[0;32m----> <a href='vscode-notebook-cell://5rpekozdhu6pwqt.studio.us-east-1.sagemaker.aws/home/sagemaker-user/anthropic-tools/01_Getting_Started.ipynb#X50sdnNjb2RlLXJlbW90ZQ%3D%3D?line=1'>2</a>\u001b[0m math_tool_user\u001b[39m.\u001b[39;49muse_tools(messages, execution_mode\u001b[39m=\u001b[39;49m\u001b[39m'\u001b[39;49m\u001b[39mautomatic\u001b[39;49m\u001b[39m'\u001b[39;49m)\n",
      "File \u001b[0;32m~/anthropic-tools/tool_use_package/tool_user.py:75\u001b[0m, in \u001b[0;36mToolUser.use_tools\u001b[0;34m(self, messages, verbose, execution_mode, max_tokens_to_sample, temperature)\u001b[0m\n\u001b[1;32m     72\u001b[0m     \u001b[39mprint\u001b[39m(\u001b[39m\"\u001b[39m\u001b[39m----------INPUT (TO SEE SYSTEM PROMPT WITH TOOLS SET verbose=1)----------\u001b[39m\u001b[39m\"\u001b[39m)\n\u001b[1;32m     73\u001b[0m     \u001b[39mprint\u001b[39m(prompt)\n\u001b[0;32m---> 75\u001b[0m completion \u001b[39m=\u001b[39m \u001b[39mself\u001b[39;49m\u001b[39m.\u001b[39;49m_complete(\u001b[39mself\u001b[39;49m\u001b[39m.\u001b[39;49mcurrent_prompt, max_tokens_to_sample\u001b[39m=\u001b[39;49mmax_tokens_to_sample, temperature\u001b[39m=\u001b[39;49mtemperature)\n\u001b[1;32m     77\u001b[0m \u001b[39mif\u001b[39;00m completion\u001b[39m.\u001b[39mstop_reason \u001b[39m==\u001b[39m \u001b[39m'\u001b[39m\u001b[39mstop_sequence\u001b[39m\u001b[39m'\u001b[39m:\n\u001b[1;32m     78\u001b[0m     \u001b[39mif\u001b[39;00m completion\u001b[39m.\u001b[39mstop \u001b[39m==\u001b[39m \u001b[39m'\u001b[39m\u001b[39m</function_calls>\u001b[39m\u001b[39m'\u001b[39m: \u001b[39m# Would be good to combine this with above if statement if completion.stop is guaranteed to be present\u001b[39;00m\n",
      "File \u001b[0;32m~/anthropic-tools/tool_use_package/tool_user.py:207\u001b[0m, in \u001b[0;36mToolUser._complete\u001b[0;34m(self, prompt, max_tokens_to_sample, temperature)\u001b[0m\n\u001b[1;32m    205\u001b[0m \u001b[39mdef\u001b[39;00m \u001b[39m_complete\u001b[39m(\u001b[39mself\u001b[39m, prompt, max_tokens_to_sample, temperature):\n\u001b[1;32m    206\u001b[0m     \u001b[39mif\u001b[39;00m \u001b[39mself\u001b[39m\u001b[39m.\u001b[39mfirst_party:\n\u001b[0;32m--> 207\u001b[0m         \u001b[39mreturn\u001b[39;00m \u001b[39mself\u001b[39;49m\u001b[39m.\u001b[39;49m_messages_complete(prompt, max_tokens_to_sample, temperature)\n\u001b[1;32m    208\u001b[0m     \u001b[39melse\u001b[39;00m:\n\u001b[1;32m    209\u001b[0m         \u001b[39mreturn\u001b[39;00m \u001b[39mself\u001b[39m\u001b[39m.\u001b[39m_completions_complete(prompt, max_tokens_to_sample, temperature)\n",
      "File \u001b[0;32m~/anthropic-tools/tool_use_package/tool_user.py:222\u001b[0m, in \u001b[0;36mToolUser._messages_complete\u001b[0;34m(self, prompt, max_tokens_to_sample, temperature)\u001b[0m\n\u001b[1;32m    214\u001b[0m     completion \u001b[39m=\u001b[39m \u001b[39mself\u001b[39m\u001b[39m.\u001b[39mclient\u001b[39m.\u001b[39mmessages\u001b[39m.\u001b[39mcreate(\n\u001b[1;32m    215\u001b[0m         model\u001b[39m=\u001b[39m\u001b[39mself\u001b[39m\u001b[39m.\u001b[39mmodel,\n\u001b[1;32m    216\u001b[0m         max_tokens\u001b[39m=\u001b[39mmax_tokens_to_sample,\n\u001b[0;32m   (...)\u001b[0m\n\u001b[1;32m    219\u001b[0m         messages\u001b[39m=\u001b[39mmessages[\u001b[39m'\u001b[39m\u001b[39mmessages\u001b[39m\u001b[39m'\u001b[39m]\n\u001b[1;32m    220\u001b[0m     )\n\u001b[1;32m    221\u001b[0m \u001b[39melse\u001b[39;00m:\n\u001b[0;32m--> 222\u001b[0m     completion \u001b[39m=\u001b[39m \u001b[39mself\u001b[39;49m\u001b[39m.\u001b[39;49mclient\u001b[39m.\u001b[39;49mmessages\u001b[39m.\u001b[39;49mcreate(\n\u001b[1;32m    223\u001b[0m         model\u001b[39m=\u001b[39;49m\u001b[39mself\u001b[39;49m\u001b[39m.\u001b[39;49mmodel,\n\u001b[1;32m    224\u001b[0m         max_tokens\u001b[39m=\u001b[39;49mmax_tokens_to_sample,\n\u001b[1;32m    225\u001b[0m         temperature\u001b[39m=\u001b[39;49mtemperature,\n\u001b[1;32m    226\u001b[0m         stop_sequences\u001b[39m=\u001b[39;49m[\u001b[39m\"\u001b[39;49m\u001b[39m</function_calls>\u001b[39;49m\u001b[39m\"\u001b[39;49m, \u001b[39m\"\u001b[39;49m\u001b[39m\\n\u001b[39;49;00m\u001b[39m\\n\u001b[39;49;00m\u001b[39mHuman:\u001b[39;49m\u001b[39m\"\u001b[39;49m],\n\u001b[1;32m    227\u001b[0m         messages\u001b[39m=\u001b[39;49mmessages[\u001b[39m'\u001b[39;49m\u001b[39mmessages\u001b[39;49m\u001b[39m'\u001b[39;49m],\n\u001b[1;32m    228\u001b[0m         system\u001b[39m=\u001b[39;49mmessages[\u001b[39m'\u001b[39;49m\u001b[39msystem\u001b[39;49m\u001b[39m'\u001b[39;49m]\n\u001b[1;32m    229\u001b[0m     )\n\u001b[1;32m    230\u001b[0m \u001b[39mreturn\u001b[39;00m convert_messages_completion_object_to_completions_completion_object(completion)\n",
      "File \u001b[0;32m~/anthropic-tools/.venv/lib/python3.10/site-packages/anthropic/_utils/_utils.py:275\u001b[0m, in \u001b[0;36mrequired_args.<locals>.inner.<locals>.wrapper\u001b[0;34m(*args, **kwargs)\u001b[0m\n\u001b[1;32m    273\u001b[0m             msg \u001b[39m=\u001b[39m \u001b[39mf\u001b[39m\u001b[39m\"\u001b[39m\u001b[39mMissing required argument: \u001b[39m\u001b[39m{\u001b[39;00mquote(missing[\u001b[39m0\u001b[39m])\u001b[39m}\u001b[39;00m\u001b[39m\"\u001b[39m\n\u001b[1;32m    274\u001b[0m     \u001b[39mraise\u001b[39;00m \u001b[39mTypeError\u001b[39;00m(msg)\n\u001b[0;32m--> 275\u001b[0m \u001b[39mreturn\u001b[39;00m func(\u001b[39m*\u001b[39;49margs, \u001b[39m*\u001b[39;49m\u001b[39m*\u001b[39;49mkwargs)\n",
      "File \u001b[0;32m~/anthropic-tools/.venv/lib/python3.10/site-packages/anthropic/resources/messages.py:553\u001b[0m, in \u001b[0;36mMessages.create\u001b[0;34m(self, max_tokens, messages, model, metadata, stop_sequences, stream, system, temperature, top_k, top_p, extra_headers, extra_query, extra_body, timeout)\u001b[0m\n\u001b[1;32m    532\u001b[0m \u001b[39m@required_args\u001b[39m([\u001b[39m\"\u001b[39m\u001b[39mmax_tokens\u001b[39m\u001b[39m\"\u001b[39m, \u001b[39m\"\u001b[39m\u001b[39mmessages\u001b[39m\u001b[39m\"\u001b[39m, \u001b[39m\"\u001b[39m\u001b[39mmodel\u001b[39m\u001b[39m\"\u001b[39m], [\u001b[39m\"\u001b[39m\u001b[39mmax_tokens\u001b[39m\u001b[39m\"\u001b[39m, \u001b[39m\"\u001b[39m\u001b[39mmessages\u001b[39m\u001b[39m\"\u001b[39m, \u001b[39m\"\u001b[39m\u001b[39mmodel\u001b[39m\u001b[39m\"\u001b[39m, \u001b[39m\"\u001b[39m\u001b[39mstream\u001b[39m\u001b[39m\"\u001b[39m])\n\u001b[1;32m    533\u001b[0m \u001b[39mdef\u001b[39;00m \u001b[39mcreate\u001b[39m(\n\u001b[1;32m    534\u001b[0m     \u001b[39mself\u001b[39m,\n\u001b[0;32m   (...)\u001b[0m\n\u001b[1;32m    551\u001b[0m     timeout: \u001b[39mfloat\u001b[39m \u001b[39m|\u001b[39m httpx\u001b[39m.\u001b[39mTimeout \u001b[39m|\u001b[39m \u001b[39mNone\u001b[39;00m \u001b[39m|\u001b[39m NotGiven \u001b[39m=\u001b[39m \u001b[39m600\u001b[39m,\n\u001b[1;32m    552\u001b[0m ) \u001b[39m-\u001b[39m\u001b[39m>\u001b[39m Message \u001b[39m|\u001b[39m Stream[MessageStreamEvent]:\n\u001b[0;32m--> 553\u001b[0m     \u001b[39mreturn\u001b[39;00m \u001b[39mself\u001b[39;49m\u001b[39m.\u001b[39;49m_post(\n\u001b[1;32m    554\u001b[0m         \u001b[39m\"\u001b[39;49m\u001b[39m/v1/messages\u001b[39;49m\u001b[39m\"\u001b[39;49m,\n\u001b[1;32m    555\u001b[0m         body\u001b[39m=\u001b[39;49mmaybe_transform(\n\u001b[1;32m    556\u001b[0m             {\n\u001b[1;32m    557\u001b[0m                 \u001b[39m\"\u001b[39;49m\u001b[39mmax_tokens\u001b[39;49m\u001b[39m\"\u001b[39;49m: max_tokens,\n\u001b[1;32m    558\u001b[0m                 \u001b[39m\"\u001b[39;49m\u001b[39mmessages\u001b[39;49m\u001b[39m\"\u001b[39;49m: messages,\n\u001b[1;32m    559\u001b[0m                 \u001b[39m\"\u001b[39;49m\u001b[39mmodel\u001b[39;49m\u001b[39m\"\u001b[39;49m: model,\n\u001b[1;32m    560\u001b[0m                 \u001b[39m\"\u001b[39;49m\u001b[39mmetadata\u001b[39;49m\u001b[39m\"\u001b[39;49m: metadata,\n\u001b[1;32m    561\u001b[0m                 \u001b[39m\"\u001b[39;49m\u001b[39mstop_sequences\u001b[39;49m\u001b[39m\"\u001b[39;49m: stop_sequences,\n\u001b[1;32m    562\u001b[0m                 \u001b[39m\"\u001b[39;49m\u001b[39mstream\u001b[39;49m\u001b[39m\"\u001b[39;49m: stream,\n\u001b[1;32m    563\u001b[0m                 \u001b[39m\"\u001b[39;49m\u001b[39msystem\u001b[39;49m\u001b[39m\"\u001b[39;49m: system,\n\u001b[1;32m    564\u001b[0m                 \u001b[39m\"\u001b[39;49m\u001b[39mtemperature\u001b[39;49m\u001b[39m\"\u001b[39;49m: temperature,\n\u001b[1;32m    565\u001b[0m                 \u001b[39m\"\u001b[39;49m\u001b[39mtop_k\u001b[39;49m\u001b[39m\"\u001b[39;49m: top_k,\n\u001b[1;32m    566\u001b[0m                 \u001b[39m\"\u001b[39;49m\u001b[39mtop_p\u001b[39;49m\u001b[39m\"\u001b[39;49m: top_p,\n\u001b[1;32m    567\u001b[0m             },\n\u001b[1;32m    568\u001b[0m             message_create_params\u001b[39m.\u001b[39;49mMessageCreateParams,\n\u001b[1;32m    569\u001b[0m         ),\n\u001b[1;32m    570\u001b[0m         options\u001b[39m=\u001b[39;49mmake_request_options(\n\u001b[1;32m    571\u001b[0m             extra_headers\u001b[39m=\u001b[39;49mextra_headers, extra_query\u001b[39m=\u001b[39;49mextra_query, extra_body\u001b[39m=\u001b[39;49mextra_body, timeout\u001b[39m=\u001b[39;49mtimeout\n\u001b[1;32m    572\u001b[0m         ),\n\u001b[1;32m    573\u001b[0m         cast_to\u001b[39m=\u001b[39;49mMessage,\n\u001b[1;32m    574\u001b[0m         stream\u001b[39m=\u001b[39;49mstream \u001b[39mor\u001b[39;49;00m \u001b[39mFalse\u001b[39;49;00m,\n\u001b[1;32m    575\u001b[0m         stream_cls\u001b[39m=\u001b[39;49mStream[MessageStreamEvent],\n\u001b[1;32m    576\u001b[0m     )\n",
      "File \u001b[0;32m~/anthropic-tools/.venv/lib/python3.10/site-packages/anthropic/_base_client.py:1200\u001b[0m, in \u001b[0;36mSyncAPIClient.post\u001b[0;34m(self, path, cast_to, body, options, files, stream, stream_cls)\u001b[0m\n\u001b[1;32m   1186\u001b[0m \u001b[39mdef\u001b[39;00m \u001b[39mpost\u001b[39m(\n\u001b[1;32m   1187\u001b[0m     \u001b[39mself\u001b[39m,\n\u001b[1;32m   1188\u001b[0m     path: \u001b[39mstr\u001b[39m,\n\u001b[0;32m   (...)\u001b[0m\n\u001b[1;32m   1195\u001b[0m     stream_cls: \u001b[39mtype\u001b[39m[_StreamT] \u001b[39m|\u001b[39m \u001b[39mNone\u001b[39;00m \u001b[39m=\u001b[39m \u001b[39mNone\u001b[39;00m,\n\u001b[1;32m   1196\u001b[0m ) \u001b[39m-\u001b[39m\u001b[39m>\u001b[39m ResponseT \u001b[39m|\u001b[39m _StreamT:\n\u001b[1;32m   1197\u001b[0m     opts \u001b[39m=\u001b[39m FinalRequestOptions\u001b[39m.\u001b[39mconstruct(\n\u001b[1;32m   1198\u001b[0m         method\u001b[39m=\u001b[39m\u001b[39m\"\u001b[39m\u001b[39mpost\u001b[39m\u001b[39m\"\u001b[39m, url\u001b[39m=\u001b[39mpath, json_data\u001b[39m=\u001b[39mbody, files\u001b[39m=\u001b[39mto_httpx_files(files), \u001b[39m*\u001b[39m\u001b[39m*\u001b[39moptions\n\u001b[1;32m   1199\u001b[0m     )\n\u001b[0;32m-> 1200\u001b[0m     \u001b[39mreturn\u001b[39;00m cast(ResponseT, \u001b[39mself\u001b[39;49m\u001b[39m.\u001b[39;49mrequest(cast_to, opts, stream\u001b[39m=\u001b[39;49mstream, stream_cls\u001b[39m=\u001b[39;49mstream_cls))\n",
      "File \u001b[0;32m~/anthropic-tools/.venv/lib/python3.10/site-packages/anthropic/_base_client.py:889\u001b[0m, in \u001b[0;36mSyncAPIClient.request\u001b[0;34m(self, cast_to, options, remaining_retries, stream, stream_cls)\u001b[0m\n\u001b[1;32m    880\u001b[0m \u001b[39mdef\u001b[39;00m \u001b[39mrequest\u001b[39m(\n\u001b[1;32m    881\u001b[0m     \u001b[39mself\u001b[39m,\n\u001b[1;32m    882\u001b[0m     cast_to: Type[ResponseT],\n\u001b[0;32m   (...)\u001b[0m\n\u001b[1;32m    887\u001b[0m     stream_cls: \u001b[39mtype\u001b[39m[_StreamT] \u001b[39m|\u001b[39m \u001b[39mNone\u001b[39;00m \u001b[39m=\u001b[39m \u001b[39mNone\u001b[39;00m,\n\u001b[1;32m    888\u001b[0m ) \u001b[39m-\u001b[39m\u001b[39m>\u001b[39m ResponseT \u001b[39m|\u001b[39m _StreamT:\n\u001b[0;32m--> 889\u001b[0m     \u001b[39mreturn\u001b[39;00m \u001b[39mself\u001b[39;49m\u001b[39m.\u001b[39;49m_request(\n\u001b[1;32m    890\u001b[0m         cast_to\u001b[39m=\u001b[39;49mcast_to,\n\u001b[1;32m    891\u001b[0m         options\u001b[39m=\u001b[39;49moptions,\n\u001b[1;32m    892\u001b[0m         stream\u001b[39m=\u001b[39;49mstream,\n\u001b[1;32m    893\u001b[0m         stream_cls\u001b[39m=\u001b[39;49mstream_cls,\n\u001b[1;32m    894\u001b[0m         remaining_retries\u001b[39m=\u001b[39;49mremaining_retries,\n\u001b[1;32m    895\u001b[0m     )\n",
      "File \u001b[0;32m~/anthropic-tools/.venv/lib/python3.10/site-packages/anthropic/_base_client.py:910\u001b[0m, in \u001b[0;36mSyncAPIClient._request\u001b[0;34m(self, cast_to, options, remaining_retries, stream, stream_cls)\u001b[0m\n\u001b[1;32m    907\u001b[0m \u001b[39mself\u001b[39m\u001b[39m.\u001b[39m_prepare_options(options)\n\u001b[1;32m    909\u001b[0m retries \u001b[39m=\u001b[39m \u001b[39mself\u001b[39m\u001b[39m.\u001b[39m_remaining_retries(remaining_retries, options)\n\u001b[0;32m--> 910\u001b[0m request \u001b[39m=\u001b[39m \u001b[39mself\u001b[39;49m\u001b[39m.\u001b[39;49m_build_request(options)\n\u001b[1;32m    911\u001b[0m \u001b[39mself\u001b[39m\u001b[39m.\u001b[39m_prepare_request(request)\n\u001b[1;32m    913\u001b[0m kwargs: HttpxSendArgs \u001b[39m=\u001b[39m {}\n",
      "File \u001b[0;32m~/anthropic-tools/.venv/lib/python3.10/site-packages/anthropic/_base_client.py:452\u001b[0m, in \u001b[0;36mBaseClient._build_request\u001b[0;34m(self, options)\u001b[0m\n\u001b[1;32m    449\u001b[0m     \u001b[39melse\u001b[39;00m:\n\u001b[1;32m    450\u001b[0m         \u001b[39mraise\u001b[39;00m \u001b[39mRuntimeError\u001b[39;00m(\u001b[39mf\u001b[39m\u001b[39m\"\u001b[39m\u001b[39mUnexpected JSON data type, \u001b[39m\u001b[39m{\u001b[39;00m\u001b[39mtype\u001b[39m(json_data)\u001b[39m}\u001b[39;00m\u001b[39m, cannot merge with `extra_body`\u001b[39m\u001b[39m\"\u001b[39m)\n\u001b[0;32m--> 452\u001b[0m headers \u001b[39m=\u001b[39m \u001b[39mself\u001b[39;49m\u001b[39m.\u001b[39;49m_build_headers(options)\n\u001b[1;32m    453\u001b[0m params \u001b[39m=\u001b[39m _merge_mappings(\u001b[39mself\u001b[39m\u001b[39m.\u001b[39m_custom_query, options\u001b[39m.\u001b[39mparams)\n\u001b[1;32m    454\u001b[0m content_type \u001b[39m=\u001b[39m headers\u001b[39m.\u001b[39mget(\u001b[39m\"\u001b[39m\u001b[39mContent-Type\u001b[39m\u001b[39m\"\u001b[39m)\n",
      "File \u001b[0;32m~/anthropic-tools/.venv/lib/python3.10/site-packages/anthropic/_base_client.py:410\u001b[0m, in \u001b[0;36mBaseClient._build_headers\u001b[0;34m(self, options)\u001b[0m\n\u001b[1;32m    408\u001b[0m custom_headers \u001b[39m=\u001b[39m options\u001b[39m.\u001b[39mheaders \u001b[39mor\u001b[39;00m {}\n\u001b[1;32m    409\u001b[0m headers_dict \u001b[39m=\u001b[39m _merge_mappings(\u001b[39mself\u001b[39m\u001b[39m.\u001b[39mdefault_headers, custom_headers)\n\u001b[0;32m--> 410\u001b[0m \u001b[39mself\u001b[39;49m\u001b[39m.\u001b[39;49m_validate_headers(headers_dict, custom_headers)\n\u001b[1;32m    412\u001b[0m \u001b[39m# headers are case-insensitive while dictionaries are not.\u001b[39;00m\n\u001b[1;32m    413\u001b[0m headers \u001b[39m=\u001b[39m httpx\u001b[39m.\u001b[39mHeaders(headers_dict)\n",
      "File \u001b[0;32m~/anthropic-tools/.venv/lib/python3.10/site-packages/anthropic/_client.py:190\u001b[0m, in \u001b[0;36mAnthropic._validate_headers\u001b[0;34m(self, headers, custom_headers)\u001b[0m\n\u001b[1;32m    187\u001b[0m \u001b[39mif\u001b[39;00m \u001b[39misinstance\u001b[39m(custom_headers\u001b[39m.\u001b[39mget(\u001b[39m\"\u001b[39m\u001b[39mAuthorization\u001b[39m\u001b[39m\"\u001b[39m), Omit):\n\u001b[1;32m    188\u001b[0m     \u001b[39mreturn\u001b[39;00m\n\u001b[0;32m--> 190\u001b[0m \u001b[39mraise\u001b[39;00m \u001b[39mTypeError\u001b[39;00m(\n\u001b[1;32m    191\u001b[0m     \u001b[39m'\u001b[39m\u001b[39m\"\u001b[39m\u001b[39mCould not resolve authentication method. Expected either api_key or auth_token to be set. Or for one of the `X-Api-Key` or `Authorization` headers to be explicitly omitted\u001b[39m\u001b[39m\"\u001b[39m\u001b[39m'\u001b[39m\n\u001b[1;32m    192\u001b[0m )\n",
      "\u001b[0;31mTypeError\u001b[0m: \"Could not resolve authentication method. Expected either api_key or auth_token to be set. Or for one of the `X-Api-Key` or `Authorization` headers to be explicitly omitted\""
     ]
    }
   ],
   "source": [
    "\n",
    "# Use Claude With the Provided Tools\n",
    "math_tool_user.use_tools(messages, execution_mode='automatic')"
   ]
  },
  {
   "cell_type": "markdown",
   "metadata": {},
   "source": [
    "# 5. 수동으로 실행"
   ]
  },
  {
   "cell_type": "markdown",
   "metadata": {},
   "source": [
    "## 메세지 정의"
   ]
  },
  {
   "cell_type": "code",
   "execution_count": 9,
   "metadata": {},
   "outputs": [
    {
     "data": {
      "text/plain": [
       "[{'role': 'user',\n",
       "  'content': 'Sally has 17 apples. She gives 9 to Jim. Later that day, Peter gives 6 Bananas to Sally. How many pieces of fruit does Sally have at the end of the day?'}]"
      ]
     },
     "execution_count": 9,
     "metadata": {},
     "output_type": "execute_result"
    }
   ],
   "source": [
    "manual_messages = None\n",
    "manual_messages = messages\n",
    "manual_messages"
   ]
  },
  {
   "cell_type": "markdown",
   "metadata": {},
   "source": [
    "## 메세지를 실행\n",
    "- 결과 값은 메세지의 tool_inputs 가 나옴"
   ]
  },
  {
   "cell_type": "code",
   "execution_count": 10,
   "metadata": {},
   "outputs": [
    {
     "data": {
      "text/plain": [
       "{'role': 'tool_inputs',\n",
       " 'content': \"Okay, let's break this down step-by-step:\\n* Sally starts with 17 apples\\n* She gives 9 apples to Jim\\nTo calculate how many apples Sally has left:\\n\",\n",
       " 'tool_inputs': [{'tool_name': 'perform_subtraction',\n",
       "   'tool_arguments': {'a': 17.0, 'b': 9.0}}]}"
      ]
     },
     "execution_count": 10,
     "metadata": {},
     "output_type": "execute_result"
    }
   ],
   "source": [
    "claude_res = math_tool_user.use_tools(manual_messages, execution_mode='manual')\n",
    "claude_res"
   ]
  },
  {
   "cell_type": "markdown",
   "metadata": {},
   "source": [
    "## 메세지에 tool_inputs 를 추가하여 메세지 업데이트"
   ]
  },
  {
   "cell_type": "code",
   "execution_count": 11,
   "metadata": {},
   "outputs": [
    {
     "data": {
      "text/plain": [
       "[{'role': 'user',\n",
       "  'content': 'Sally has 17 apples. She gives 9 to Jim. Later that day, Peter gives 6 Bananas to Sally. How many pieces of fruit does Sally have at the end of the day?'},\n",
       " {'role': 'tool_inputs',\n",
       "  'content': \"Okay, let's break this down step-by-step:\\n* Sally starts with 17 apples\\n* She gives 9 apples to Jim\\nTo calculate how many apples Sally has left:\\n\",\n",
       "  'tool_inputs': [{'tool_name': 'perform_subtraction',\n",
       "    'tool_arguments': {'a': 17.0, 'b': 9.0}}]}]"
      ]
     },
     "execution_count": 11,
     "metadata": {},
     "output_type": "execute_result"
    }
   ],
   "source": [
    "manual_messages.append(claude_res)\n",
    "manual_messages"
   ]
  },
  {
   "cell_type": "markdown",
   "metadata": {},
   "source": [
    "## perform_subtraction 함수를 외부에서 실행한 결과를 메세지로 생성\n",
    "- 수동으로 진행하기에, 아래는 실제 수동으로 실행한 결과로 가정하고, 메세지를 생성 함."
   ]
  },
  {
   "cell_type": "code",
   "execution_count": 12,
   "metadata": {},
   "outputs": [],
   "source": [
    "next_message = {\n",
    "    \"role\": \"tool_outputs\",\n",
    "    \"tool_outputs\": [\n",
    "        {\n",
    "            \"tool_name\": \"perform_subtraction\",\n",
    "            \"tool_result\": 8\n",
    "        }\n",
    "    ],\n",
    "    \"tool_error\": None\n",
    "}"
   ]
  },
  {
   "cell_type": "markdown",
   "metadata": {},
   "source": [
    "## 기존 메세지에 perform_subtraction 메세지 추가"
   ]
  },
  {
   "cell_type": "code",
   "execution_count": 13,
   "metadata": {},
   "outputs": [
    {
     "data": {
      "text/plain": [
       "[{'role': 'user',\n",
       "  'content': 'Sally has 17 apples. She gives 9 to Jim. Later that day, Peter gives 6 Bananas to Sally. How many pieces of fruit does Sally have at the end of the day?'},\n",
       " {'role': 'tool_inputs',\n",
       "  'content': \"Okay, let's break this down step-by-step:\\n* Sally starts with 17 apples\\n* She gives 9 apples to Jim\\nTo calculate how many apples Sally has left:\\n\",\n",
       "  'tool_inputs': [{'tool_name': 'perform_subtraction',\n",
       "    'tool_arguments': {'a': 17.0, 'b': 9.0}}]},\n",
       " {'role': 'tool_outputs',\n",
       "  'tool_outputs': [{'tool_name': 'perform_subtraction', 'tool_result': 8}],\n",
       "  'tool_error': None}]"
      ]
     },
     "execution_count": 13,
     "metadata": {},
     "output_type": "execute_result"
    }
   ],
   "source": [
    "manual_messages.append(next_message)\n",
    "manual_messages"
   ]
  },
  {
   "cell_type": "markdown",
   "metadata": {},
   "source": [
    "## 메세지를 실행하여 tool_inputs 를 얻음"
   ]
  },
  {
   "cell_type": "code",
   "execution_count": 14,
   "metadata": {},
   "outputs": [
    {
     "data": {
      "text/plain": [
       "{'role': 'tool_inputs',\n",
       " 'content': \"\\n\\nSo after giving 9 apples to Jim, Sally has 8 apples left.\\n\\n* Later, Peter gives Sally 6 bananas\\n\\nTo calculate Sally's total fruit at the end of the day, we add her remaining apples and the bananas from Peter:\\n\\n\",\n",
       " 'tool_inputs': [{'tool_name': 'perform_addition',\n",
       "   'tool_arguments': {'a': 8.0, 'b': 6.0}}]}"
      ]
     },
     "execution_count": 14,
     "metadata": {},
     "output_type": "execute_result"
    }
   ],
   "source": [
    "\n",
    "\n",
    "claude_res = math_tool_user.use_tools(manual_messages, execution_mode='manual')\n",
    "claude_res\n",
    "\n"
   ]
  },
  {
   "cell_type": "markdown",
   "metadata": {},
   "source": [
    "## tool_inputs 추가"
   ]
  },
  {
   "cell_type": "code",
   "execution_count": 15,
   "metadata": {},
   "outputs": [
    {
     "data": {
      "text/plain": [
       "[{'role': 'user',\n",
       "  'content': 'Sally has 17 apples. She gives 9 to Jim. Later that day, Peter gives 6 Bananas to Sally. How many pieces of fruit does Sally have at the end of the day?'},\n",
       " {'role': 'tool_inputs',\n",
       "  'content': \"Okay, let's break this down step-by-step:\\n* Sally starts with 17 apples\\n* She gives 9 apples to Jim\\nTo calculate how many apples Sally has left:\\n\",\n",
       "  'tool_inputs': [{'tool_name': 'perform_subtraction',\n",
       "    'tool_arguments': {'a': 17.0, 'b': 9.0}}]},\n",
       " {'role': 'tool_outputs',\n",
       "  'tool_outputs': [{'tool_name': 'perform_subtraction', 'tool_result': 8}],\n",
       "  'tool_error': None},\n",
       " {'role': 'tool_inputs',\n",
       "  'content': \"\\n\\nSo after giving 9 apples to Jim, Sally has 8 apples left.\\n\\n* Later, Peter gives Sally 6 bananas\\n\\nTo calculate Sally's total fruit at the end of the day, we add her remaining apples and the bananas from Peter:\\n\\n\",\n",
       "  'tool_inputs': [{'tool_name': 'perform_addition',\n",
       "    'tool_arguments': {'a': 8.0, 'b': 6.0}}]}]"
      ]
     },
     "execution_count": 15,
     "metadata": {},
     "output_type": "execute_result"
    }
   ],
   "source": [
    "manual_messages.append(claude_res)\n",
    "manual_messages"
   ]
  },
  {
   "cell_type": "markdown",
   "metadata": {},
   "source": [
    "## perform_addition 로 실행 결과를 얻었다고 가정하여 메세지 생성"
   ]
  },
  {
   "cell_type": "code",
   "execution_count": 16,
   "metadata": {},
   "outputs": [],
   "source": [
    "\n",
    "next_message = {\n",
    "    \"role\": \"tool_outputs\",\n",
    "    \"tool_outputs\": [\n",
    "        {\n",
    "            \"tool_name\": \"perform_addition\",\n",
    "            \"tool_result\": 14\n",
    "        }\n",
    "    ],\n",
    "    \"tool_error\": None\n",
    "}"
   ]
  },
  {
   "cell_type": "markdown",
   "metadata": {},
   "source": [
    "## tool_outputs 생성"
   ]
  },
  {
   "cell_type": "code",
   "execution_count": 17,
   "metadata": {},
   "outputs": [
    {
     "data": {
      "text/plain": [
       "[{'role': 'user',\n",
       "  'content': 'Sally has 17 apples. She gives 9 to Jim. Later that day, Peter gives 6 Bananas to Sally. How many pieces of fruit does Sally have at the end of the day?'},\n",
       " {'role': 'tool_inputs',\n",
       "  'content': \"Okay, let's break this down step-by-step:\\n* Sally starts with 17 apples\\n* She gives 9 apples to Jim\\nTo calculate how many apples Sally has left:\\n\",\n",
       "  'tool_inputs': [{'tool_name': 'perform_subtraction',\n",
       "    'tool_arguments': {'a': 17.0, 'b': 9.0}}]},\n",
       " {'role': 'tool_outputs',\n",
       "  'tool_outputs': [{'tool_name': 'perform_subtraction', 'tool_result': 8}],\n",
       "  'tool_error': None},\n",
       " {'role': 'tool_inputs',\n",
       "  'content': \"\\n\\nSo after giving 9 apples to Jim, Sally has 8 apples left.\\n\\n* Later, Peter gives Sally 6 bananas\\n\\nTo calculate Sally's total fruit at the end of the day, we add her remaining apples and the bananas from Peter:\\n\\n\",\n",
       "  'tool_inputs': [{'tool_name': 'perform_addition',\n",
       "    'tool_arguments': {'a': 8.0, 'b': 6.0}}]},\n",
       " {'role': 'tool_outputs',\n",
       "  'tool_outputs': [{'tool_name': 'perform_addition', 'tool_result': 14}],\n",
       "  'tool_error': None}]"
      ]
     },
     "execution_count": 17,
     "metadata": {},
     "output_type": "execute_result"
    }
   ],
   "source": [
    "manual_messages.append(next_message)\n",
    "manual_messages"
   ]
  },
  {
   "cell_type": "markdown",
   "metadata": {},
   "source": [
    "## 최종 실행하여 결과 얻음"
   ]
  },
  {
   "cell_type": "code",
   "execution_count": 18,
   "metadata": {},
   "outputs": [
    {
     "data": {
      "text/plain": [
       "{'role': 'assistant',\n",
       " 'content': '\\n\\n\\n\\nTherefore, at the end of the day, Sally has a total of 14 pieces of fruit - 8 apples and 6 bananas.'}"
      ]
     },
     "execution_count": 18,
     "metadata": {},
     "output_type": "execute_result"
    }
   ],
   "source": [
    "math_tool_user.use_tools(manual_messages, execution_mode='manual')"
   ]
  },
  {
   "cell_type": "markdown",
   "metadata": {},
   "source": []
  }
 ],
 "metadata": {
  "kernelspec": {
   "display_name": ".venv",
   "language": "python",
   "name": "python3"
  },
  "language_info": {
   "codemirror_mode": {
    "name": "ipython",
    "version": 3
   },
   "file_extension": ".py",
   "mimetype": "text/x-python",
   "name": "python",
   "nbconvert_exporter": "python",
   "pygments_lexer": "ipython3",
   "version": "3.10.13"
  }
 },
 "nbformat": 4,
 "nbformat_minor": 2
}
