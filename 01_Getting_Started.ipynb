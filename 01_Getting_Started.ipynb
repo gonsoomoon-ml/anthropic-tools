{
 "cells": [
  {
   "cell_type": "markdown",
   "metadata": {},
   "source": [
    "# Claude Function Calling on Anthropic Tools\n",
    "- https://github.com/gonsoomoon-ml/anthropic-tools"
   ]
  },
  {
   "cell_type": "markdown",
   "metadata": {},
   "source": [
    "## 1. 환경 설정\n",
    "- 아래 링크를 클릭하여 Claude Model 을 사용하기 위한 API Key 설정 하세요.\n",
    "    - [VS CODE 노트북에서 환경 변수 사용하기](https://github.com/gonsoomoon-ml/Self-Study-Generative-AI/blob/main/environment_tips/README.md)"
   ]
  },
  {
   "cell_type": "code",
   "execution_count": 2,
   "metadata": {},
   "outputs": [],
   "source": [
    "# install_needed = True\n",
    "install_needed = False\n",
    "\n",
    "if install_needed:\n",
    "    ! pip install -r requirements.txt\n",
    "    ! pip install python-dotenv\n"
   ]
  },
  {
   "cell_type": "markdown",
   "metadata": {},
   "source": [
    "# 2. Tool 정의"
   ]
  },
  {
   "cell_type": "code",
   "execution_count": 3,
   "metadata": {},
   "outputs": [],
   "source": [
    "from tool_use_package.tool_user import ToolUser\n",
    "from tool_use_package.tools.base_tool import BaseTool"
   ]
  },
  {
   "cell_type": "code",
   "execution_count": 4,
   "metadata": {},
   "outputs": [],
   "source": [
    "# Create Tools\n",
    "class AdditionTool(BaseTool):\n",
    "    \"\"\"Tool to add two numbers together.\"\"\"\n",
    "    def use_tool(self, a, b):\n",
    "        return a + b\n",
    "\n",
    "class SubtractionTool(BaseTool):\n",
    "    \"\"\"Tool to subtract one number from another.\"\"\"\n",
    "    def use_tool(self, a, b):\n",
    "        return a - b\n",
    "\n",
    "# Instantiate Each Tool\n",
    "addition_tool_name = \"perform_addition\"\n",
    "addition_tool_description = \"Add two numbers, a and b, together. For example, add_numbers(a=10, b=12) -> 22. Numbers can be any rational number.\"\n",
    "addition_tool_parameters = [\n",
    "    {\"name\": \"a\", \"type\": \"float\", \"description\": \"The first number to add, such as 5\"},\n",
    "    {\"name\": \"b\", \"type\": \"float\", \"description\": \"The second number to add, such as 4.6\"}\n",
    "]\n",
    "\n",
    "subtraction_tool_name = \"perform_subtraction\"\n",
    "subtraction_tool_description = \"Perform subtraction of one number (b) from another (a) yielding a-b. For example, subtract_numbers(a=8, b=5) -> 3. Numbers can be any rational number.\"\n",
    "subtraction_tool_parameters = [\n",
    "    {\"name\": \"a\", \"type\": \"float\", \"description\": \"The minuend, such as 5\"},\n",
    "    {\"name\": \"b\", \"type\": \"float\", \"description\": \"The subtrahend, such as 9\"}\n",
    "]\n"
   ]
  },
  {
   "cell_type": "code",
   "execution_count": 5,
   "metadata": {},
   "outputs": [],
   "source": [
    "addition_tool = AdditionTool(addition_tool_name, addition_tool_description, addition_tool_parameters)\n",
    "subtraction_tool = SubtractionTool(subtraction_tool_name, subtraction_tool_description, subtraction_tool_parameters)\n"
   ]
  },
  {
   "cell_type": "markdown",
   "metadata": {},
   "source": [
    "# 3. Tool User 및 메시지 정의"
   ]
  },
  {
   "cell_type": "code",
   "execution_count": 6,
   "metadata": {},
   "outputs": [],
   "source": [
    "\n",
    "\n",
    "# Instantiate ToolUser by Passing it Tool Instances \n",
    "math_tool_user = ToolUser([addition_tool, subtraction_tool])\n",
    "\n",
    "# Build messages\n",
    "user_message = {\n",
    "    \"role\": \"user\",\n",
    "    \"content\": \"Sally has 17 apples. She gives 9 to Jim. Later that day, Peter gives 6 Bananas to Sally. How many pieces of fruit does Sally have at the end of the day?\"\n",
    "}\n",
    "\n",
    "messages = [user_message]\n"
   ]
  },
  {
   "cell_type": "markdown",
   "metadata": {},
   "source": [
    "# 4. 메세지를 Tool 을 사용하여 결과 얻음"
   ]
  },
  {
   "cell_type": "code",
   "execution_count": 7,
   "metadata": {},
   "outputs": [
    {
     "data": {
      "text/plain": [
       "'\\n\\nTherefore, at the end of the day, Sally has a total of 14 pieces of fruit (8 apples and 6 bananas).'"
      ]
     },
     "execution_count": 7,
     "metadata": {},
     "output_type": "execute_result"
    }
   ],
   "source": [
    "\n",
    "# Use Claude With the Provided Tools\n",
    "math_tool_user.use_tools(messages, execution_mode='automatic')"
   ]
  },
  {
   "cell_type": "markdown",
   "metadata": {},
   "source": [
    "# 5. 수동으로 실행"
   ]
  },
  {
   "cell_type": "markdown",
   "metadata": {},
   "source": [
    "## 메세지 정의"
   ]
  },
  {
   "cell_type": "code",
   "execution_count": 9,
   "metadata": {},
   "outputs": [
    {
     "data": {
      "text/plain": [
       "[{'role': 'user',\n",
       "  'content': 'Sally has 17 apples. She gives 9 to Jim. Later that day, Peter gives 6 Bananas to Sally. How many pieces of fruit does Sally have at the end of the day?'}]"
      ]
     },
     "execution_count": 9,
     "metadata": {},
     "output_type": "execute_result"
    }
   ],
   "source": [
    "manual_messages = None\n",
    "manual_messages = messages\n",
    "manual_messages"
   ]
  },
  {
   "cell_type": "markdown",
   "metadata": {},
   "source": [
    "## 메세지를 실행\n",
    "- 결과 값은 메세지의 tool_inputs 가 나옴"
   ]
  },
  {
   "cell_type": "code",
   "execution_count": 10,
   "metadata": {},
   "outputs": [
    {
     "data": {
      "text/plain": [
       "{'role': 'tool_inputs',\n",
       " 'content': \"Okay, let's break this down step-by-step:\\n* Sally starts with 17 apples\\n* She gives 9 apples to Jim\\nTo calculate how many apples Sally has left:\\n\",\n",
       " 'tool_inputs': [{'tool_name': 'perform_subtraction',\n",
       "   'tool_arguments': {'a': 17.0, 'b': 9.0}}]}"
      ]
     },
     "execution_count": 10,
     "metadata": {},
     "output_type": "execute_result"
    }
   ],
   "source": [
    "claude_res = math_tool_user.use_tools(manual_messages, execution_mode='manual')\n",
    "claude_res"
   ]
  },
  {
   "cell_type": "markdown",
   "metadata": {},
   "source": [
    "## 메세지에 tool_inputs 를 추가하여 메세지 업데이트"
   ]
  },
  {
   "cell_type": "code",
   "execution_count": 11,
   "metadata": {},
   "outputs": [
    {
     "data": {
      "text/plain": [
       "[{'role': 'user',\n",
       "  'content': 'Sally has 17 apples. She gives 9 to Jim. Later that day, Peter gives 6 Bananas to Sally. How many pieces of fruit does Sally have at the end of the day?'},\n",
       " {'role': 'tool_inputs',\n",
       "  'content': \"Okay, let's break this down step-by-step:\\n* Sally starts with 17 apples\\n* She gives 9 apples to Jim\\nTo calculate how many apples Sally has left:\\n\",\n",
       "  'tool_inputs': [{'tool_name': 'perform_subtraction',\n",
       "    'tool_arguments': {'a': 17.0, 'b': 9.0}}]}]"
      ]
     },
     "execution_count": 11,
     "metadata": {},
     "output_type": "execute_result"
    }
   ],
   "source": [
    "manual_messages.append(claude_res)\n",
    "manual_messages"
   ]
  },
  {
   "cell_type": "markdown",
   "metadata": {},
   "source": [
    "## perform_subtraction 함수를 외부에서 실행한 결과를 메세지로 생성\n",
    "- 수동으로 진행하기에, 아래는 실제 수동으로 실행한 결과로 가정하고, 메세지를 생성 함."
   ]
  },
  {
   "cell_type": "code",
   "execution_count": 12,
   "metadata": {},
   "outputs": [],
   "source": [
    "next_message = {\n",
    "    \"role\": \"tool_outputs\",\n",
    "    \"tool_outputs\": [\n",
    "        {\n",
    "            \"tool_name\": \"perform_subtraction\",\n",
    "            \"tool_result\": 8\n",
    "        }\n",
    "    ],\n",
    "    \"tool_error\": None\n",
    "}"
   ]
  },
  {
   "cell_type": "markdown",
   "metadata": {},
   "source": [
    "## 기존 메세지에 perform_subtraction 메세지 추가"
   ]
  },
  {
   "cell_type": "code",
   "execution_count": 13,
   "metadata": {},
   "outputs": [
    {
     "data": {
      "text/plain": [
       "[{'role': 'user',\n",
       "  'content': 'Sally has 17 apples. She gives 9 to Jim. Later that day, Peter gives 6 Bananas to Sally. How many pieces of fruit does Sally have at the end of the day?'},\n",
       " {'role': 'tool_inputs',\n",
       "  'content': \"Okay, let's break this down step-by-step:\\n* Sally starts with 17 apples\\n* She gives 9 apples to Jim\\nTo calculate how many apples Sally has left:\\n\",\n",
       "  'tool_inputs': [{'tool_name': 'perform_subtraction',\n",
       "    'tool_arguments': {'a': 17.0, 'b': 9.0}}]},\n",
       " {'role': 'tool_outputs',\n",
       "  'tool_outputs': [{'tool_name': 'perform_subtraction', 'tool_result': 8}],\n",
       "  'tool_error': None}]"
      ]
     },
     "execution_count": 13,
     "metadata": {},
     "output_type": "execute_result"
    }
   ],
   "source": [
    "manual_messages.append(next_message)\n",
    "manual_messages"
   ]
  },
  {
   "cell_type": "markdown",
   "metadata": {},
   "source": [
    "## 메세지를 실행하여 tool_inputs 를 얻음"
   ]
  },
  {
   "cell_type": "code",
   "execution_count": 14,
   "metadata": {},
   "outputs": [
    {
     "data": {
      "text/plain": [
       "{'role': 'tool_inputs',\n",
       " 'content': \"\\n\\nSo after giving 9 apples to Jim, Sally has 8 apples left.\\n\\n* Later, Peter gives Sally 6 bananas\\n\\nTo calculate Sally's total fruit at the end of the day, we add her remaining apples and the bananas from Peter:\\n\\n\",\n",
       " 'tool_inputs': [{'tool_name': 'perform_addition',\n",
       "   'tool_arguments': {'a': 8.0, 'b': 6.0}}]}"
      ]
     },
     "execution_count": 14,
     "metadata": {},
     "output_type": "execute_result"
    }
   ],
   "source": [
    "\n",
    "\n",
    "claude_res = math_tool_user.use_tools(manual_messages, execution_mode='manual')\n",
    "claude_res\n",
    "\n"
   ]
  },
  {
   "cell_type": "markdown",
   "metadata": {},
   "source": [
    "## tool_inputs 추가"
   ]
  },
  {
   "cell_type": "code",
   "execution_count": 15,
   "metadata": {},
   "outputs": [
    {
     "data": {
      "text/plain": [
       "[{'role': 'user',\n",
       "  'content': 'Sally has 17 apples. She gives 9 to Jim. Later that day, Peter gives 6 Bananas to Sally. How many pieces of fruit does Sally have at the end of the day?'},\n",
       " {'role': 'tool_inputs',\n",
       "  'content': \"Okay, let's break this down step-by-step:\\n* Sally starts with 17 apples\\n* She gives 9 apples to Jim\\nTo calculate how many apples Sally has left:\\n\",\n",
       "  'tool_inputs': [{'tool_name': 'perform_subtraction',\n",
       "    'tool_arguments': {'a': 17.0, 'b': 9.0}}]},\n",
       " {'role': 'tool_outputs',\n",
       "  'tool_outputs': [{'tool_name': 'perform_subtraction', 'tool_result': 8}],\n",
       "  'tool_error': None},\n",
       " {'role': 'tool_inputs',\n",
       "  'content': \"\\n\\nSo after giving 9 apples to Jim, Sally has 8 apples left.\\n\\n* Later, Peter gives Sally 6 bananas\\n\\nTo calculate Sally's total fruit at the end of the day, we add her remaining apples and the bananas from Peter:\\n\\n\",\n",
       "  'tool_inputs': [{'tool_name': 'perform_addition',\n",
       "    'tool_arguments': {'a': 8.0, 'b': 6.0}}]}]"
      ]
     },
     "execution_count": 15,
     "metadata": {},
     "output_type": "execute_result"
    }
   ],
   "source": [
    "manual_messages.append(claude_res)\n",
    "manual_messages"
   ]
  },
  {
   "cell_type": "markdown",
   "metadata": {},
   "source": [
    "## perform_addition 로 실행 결과를 얻었다고 가정하여 메세지 생성"
   ]
  },
  {
   "cell_type": "code",
   "execution_count": 16,
   "metadata": {},
   "outputs": [],
   "source": [
    "\n",
    "next_message = {\n",
    "    \"role\": \"tool_outputs\",\n",
    "    \"tool_outputs\": [\n",
    "        {\n",
    "            \"tool_name\": \"perform_addition\",\n",
    "            \"tool_result\": 14\n",
    "        }\n",
    "    ],\n",
    "    \"tool_error\": None\n",
    "}"
   ]
  },
  {
   "cell_type": "markdown",
   "metadata": {},
   "source": [
    "## tool_outputs 생성"
   ]
  },
  {
   "cell_type": "code",
   "execution_count": 17,
   "metadata": {},
   "outputs": [
    {
     "data": {
      "text/plain": [
       "[{'role': 'user',\n",
       "  'content': 'Sally has 17 apples. She gives 9 to Jim. Later that day, Peter gives 6 Bananas to Sally. How many pieces of fruit does Sally have at the end of the day?'},\n",
       " {'role': 'tool_inputs',\n",
       "  'content': \"Okay, let's break this down step-by-step:\\n* Sally starts with 17 apples\\n* She gives 9 apples to Jim\\nTo calculate how many apples Sally has left:\\n\",\n",
       "  'tool_inputs': [{'tool_name': 'perform_subtraction',\n",
       "    'tool_arguments': {'a': 17.0, 'b': 9.0}}]},\n",
       " {'role': 'tool_outputs',\n",
       "  'tool_outputs': [{'tool_name': 'perform_subtraction', 'tool_result': 8}],\n",
       "  'tool_error': None},\n",
       " {'role': 'tool_inputs',\n",
       "  'content': \"\\n\\nSo after giving 9 apples to Jim, Sally has 8 apples left.\\n\\n* Later, Peter gives Sally 6 bananas\\n\\nTo calculate Sally's total fruit at the end of the day, we add her remaining apples and the bananas from Peter:\\n\\n\",\n",
       "  'tool_inputs': [{'tool_name': 'perform_addition',\n",
       "    'tool_arguments': {'a': 8.0, 'b': 6.0}}]},\n",
       " {'role': 'tool_outputs',\n",
       "  'tool_outputs': [{'tool_name': 'perform_addition', 'tool_result': 14}],\n",
       "  'tool_error': None}]"
      ]
     },
     "execution_count": 17,
     "metadata": {},
     "output_type": "execute_result"
    }
   ],
   "source": [
    "manual_messages.append(next_message)\n",
    "manual_messages"
   ]
  },
  {
   "cell_type": "markdown",
   "metadata": {},
   "source": [
    "## 최종 실행하여 결과 얻음"
   ]
  },
  {
   "cell_type": "code",
   "execution_count": 18,
   "metadata": {},
   "outputs": [
    {
     "data": {
      "text/plain": [
       "{'role': 'assistant',\n",
       " 'content': '\\n\\n\\n\\nTherefore, at the end of the day, Sally has a total of 14 pieces of fruit - 8 apples and 6 bananas.'}"
      ]
     },
     "execution_count": 18,
     "metadata": {},
     "output_type": "execute_result"
    }
   ],
   "source": [
    "math_tool_user.use_tools(manual_messages, execution_mode='manual')"
   ]
  },
  {
   "cell_type": "markdown",
   "metadata": {},
   "source": []
  }
 ],
 "metadata": {
  "kernelspec": {
   "display_name": ".venv",
   "language": "python",
   "name": "python3"
  },
  "language_info": {
   "codemirror_mode": {
    "name": "ipython",
    "version": 3
   },
   "file_extension": ".py",
   "mimetype": "text/x-python",
   "name": "python",
   "nbconvert_exporter": "python",
   "pygments_lexer": "ipython3",
   "version": "3.10.13"
  }
 },
 "nbformat": 4,
 "nbformat_minor": 2
}
